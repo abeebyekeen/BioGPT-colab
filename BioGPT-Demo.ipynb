{
  "nbformat": 4,
  "nbformat_minor": 0,
  "metadata": {
    "colab": {
      "provenance": [],
      "authorship_tag": "ABX9TyPTUB3VYFgGOoDWOkjjHJDh",
      "include_colab_link": true
    },
    "kernelspec": {
      "name": "python3",
      "display_name": "Python 3"
    },
    "language_info": {
      "name": "python"
    }
  },
  "cells": [
    {
      "cell_type": "markdown",
      "metadata": {
        "id": "view-in-github",
        "colab_type": "text"
      },
      "source": [
        "<a href=\"https://colab.research.google.com/github/abeebyekeen/BioGPT-colab/blob/main/BioGPT-Demo.ipynb\" target=\"_parent\"><img src=\"https://colab.research.google.com/assets/colab-badge.svg\" alt=\"Open In Colab\"/></a>"
      ]
    },
    {
      "cell_type": "code",
      "execution_count": 8,
      "metadata": {
        "id": "aRkNpUnhJjEY",
        "outputId": "6c4596e7-1952-4a90-8359-eeffbf82914f",
        "colab": {
          "base_uri": "https://localhost:8080/"
        }
      },
      "outputs": [
        {
          "output_type": "stream",
          "name": "stdout",
          "text": [
            "Looking in indexes: https://pypi.org/simple, https://us-python.pkg.dev/colab-wheels/public/simple/\n",
            "Requirement already satisfied: transformers in /usr/local/lib/python3.8/dist-packages (4.26.1)\n",
            "Requirement already satisfied: packaging>=20.0 in /usr/local/lib/python3.8/dist-packages (from transformers) (23.0)\n",
            "Requirement already satisfied: filelock in /usr/local/lib/python3.8/dist-packages (from transformers) (3.9.0)\n",
            "Requirement already satisfied: huggingface-hub<1.0,>=0.11.0 in /usr/local/lib/python3.8/dist-packages (from transformers) (0.12.0)\n",
            "Requirement already satisfied: numpy>=1.17 in /usr/local/lib/python3.8/dist-packages (from transformers) (1.21.6)\n",
            "Requirement already satisfied: requests in /usr/local/lib/python3.8/dist-packages (from transformers) (2.25.1)\n",
            "Requirement already satisfied: tqdm>=4.27 in /usr/local/lib/python3.8/dist-packages (from transformers) (4.64.1)\n",
            "Requirement already satisfied: regex!=2019.12.17 in /usr/local/lib/python3.8/dist-packages (from transformers) (2022.6.2)\n",
            "Requirement already satisfied: tokenizers!=0.11.3,<0.14,>=0.11.1 in /usr/local/lib/python3.8/dist-packages (from transformers) (0.13.2)\n",
            "Requirement already satisfied: pyyaml>=5.1 in /usr/local/lib/python3.8/dist-packages (from transformers) (6.0)\n",
            "Requirement already satisfied: typing-extensions>=3.7.4.3 in /usr/local/lib/python3.8/dist-packages (from huggingface-hub<1.0,>=0.11.0->transformers) (4.4.0)\n",
            "Requirement already satisfied: chardet<5,>=3.0.2 in /usr/local/lib/python3.8/dist-packages (from requests->transformers) (4.0.0)\n",
            "Requirement already satisfied: certifi>=2017.4.17 in /usr/local/lib/python3.8/dist-packages (from requests->transformers) (2022.12.7)\n",
            "Requirement already satisfied: idna<3,>=2.5 in /usr/local/lib/python3.8/dist-packages (from requests->transformers) (2.10)\n",
            "Requirement already satisfied: urllib3<1.27,>=1.21.1 in /usr/local/lib/python3.8/dist-packages (from requests->transformers) (1.24.3)\n",
            "Looking in indexes: https://pypi.org/simple, https://us-python.pkg.dev/colab-wheels/public/simple/\n",
            "Requirement already satisfied: sacremoses in /usr/local/lib/python3.8/dist-packages (0.0.53)\n",
            "Requirement already satisfied: click in /usr/local/lib/python3.8/dist-packages (from sacremoses) (7.1.2)\n",
            "Requirement already satisfied: joblib in /usr/local/lib/python3.8/dist-packages (from sacremoses) (1.2.0)\n",
            "Requirement already satisfied: tqdm in /usr/local/lib/python3.8/dist-packages (from sacremoses) (4.64.1)\n",
            "Requirement already satisfied: regex in /usr/local/lib/python3.8/dist-packages (from sacremoses) (2022.6.2)\n",
            "Requirement already satisfied: six in /usr/local/lib/python3.8/dist-packages (from sacremoses) (1.15.0)\n"
          ]
        }
      ],
      "source": [
        "!pip install transformers\n",
        "!pip install sacremoses"
      ]
    },
    {
      "cell_type": "code",
      "source": [
        "from transformers import(pipeline, set_seed, BioGptTokenizer, BioGptForCausalLM)\n",
        "set_seed(50)\n",
        "model = BioGptForCausalLM.from_pretrained(\"microsoft/biogpt\")\n",
        "tokenizer = BioGptTokenizer.from_pretrained(\"microsoft/biogpt\")\n",
        "generator = pipeline(\"text-generation\", model=model, tokenizer=tokenizer)\n",
        "prompt_text = ('Brain cancer is')\n",
        "generator(prompt_text , max_length=400, num_return_sequences=5, do_sample=True)"
      ],
      "metadata": {
        "id": "VvXD-F3jhws3",
        "outputId": "ca1a8562-a66a-4221-df94-0e3ff7182930",
        "colab": {
          "base_uri": "https://localhost:8080/"
        }
      },
      "execution_count": 9,
      "outputs": [
        {
          "output_type": "execute_result",
          "data": {
            "text/plain": [
              "[{'generated_text': 'Brain cancer is an emerging risk factor for the development of AD.'},\n",
              " {'generated_text': 'Brain cancer is a heterogeneous malignancy characterized by the accumulation of reactive oxygen species (ROS), making it a target for cancer therapy.'},\n",
              " {'generated_text': 'Brain cancer is one of the most dangerous and frequent cancers in men and the second in women in the world, with a wide range of mortality.'},\n",
              " {'generated_text': 'Brain cancer is the leading cause of cancer mortality among the adult population in the United States and in Europe.'},\n",
              " {'generated_text': 'Brain cancer is the second leading cause of cancer and nonmelanoma skin cancer in women, the United States, and the fifth most commonly diagnosed cancer in men.'}]"
            ]
          },
          "metadata": {},
          "execution_count": 9
        }
      ]
    },
    {
      "cell_type": "code",
      "source": [
        "prompt_text = ('A drug that can be used to treat malaria is')\n",
        "generator(prompt_text , max_length=400, num_return_sequences=5, do_sample=True)"
      ],
      "metadata": {
        "id": "4eVsPaQMnqbv",
        "outputId": "f126ba1d-1724-4661-add6-53ca43bb0df7",
        "colab": {
          "base_uri": "https://localhost:8080/"
        }
      },
      "execution_count": 10,
      "outputs": [
        {
          "output_type": "execute_result",
          "data": {
            "text/plain": [
              "[{'generated_text': 'A drug that can be used to treat malaria is a cornerstone of malaria prevention.'},\n",
              " {'generated_text': 'A drug that can be used to treat malaria is mefloquine (MQ), a quinoline with activity against multiple resistant malaria parasites.'},\n",
              " {'generated_text': 'A drug that can be used to treat malaria is widely used in Sri Lanka where it was first introduced by local drug vendors.'},\n",
              " {'generated_text': 'A drug that can be used to treat malaria is sulfadoxine-pyrimethamine (SP), which was used in Africa for many years.'},\n",
              " {'generated_text': 'A drug that can be used to treat malaria is currently being developed.'}]"
            ]
          },
          "metadata": {},
          "execution_count": 10
        }
      ]
    },
    {
      "cell_type": "code",
      "source": [
        "set_seed(43)\n",
        "prompt_text = ('A drug that can be used to treat malaria is')\n",
        "generator(prompt_text , max_length=400, num_return_sequences=5, do_sample=True)"
      ],
      "metadata": {
        "id": "mLsoqTOEoU9W",
        "outputId": "eb93fbf3-16c2-4079-a331-2ec95efd2a44",
        "colab": {
          "base_uri": "https://localhost:8080/"
        }
      },
      "execution_count": 11,
      "outputs": [
        {
          "output_type": "execute_result",
          "data": {
            "text/plain": [
              "[{'generated_text': 'A drug that can be used to treat malaria is effective alone if administered at appropriate times during infection.'},\n",
              " {'generated_text': 'A drug that can be used to treat malaria is chloroquine.'},\n",
              " {'generated_text': 'A drug that can be used to treat malaria is artemisinin.'},\n",
              " {'generated_text': 'A drug that can be used to treat malaria is still being developed.'},\n",
              " {'generated_text': 'A drug that can be used to treat malaria is the drug sulfadoxine-pyrimethamine (SP).'}]"
            ]
          },
          "metadata": {},
          "execution_count": 11
        }
      ]
    }
  ]
}